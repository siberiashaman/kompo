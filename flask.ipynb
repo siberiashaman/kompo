{
 "cells": [
  {
   "cell_type": "code",
   "execution_count": 57,
   "id": "813f8f5c",
   "metadata": {},
   "outputs": [],
   "source": [
    "#импортируем необходимые пакеты\n",
    "from flask import Flask, render_template, request\n",
    "import joblib\n",
    "import pandas as pd\n",
    "import numpy as np\n",
    "import sklearn\n",
    "from pandas import read_excel, DataFrame, Series\n",
    "from sklearn.linear_model import LinearRegression\n",
    "from sklearn.metrics import mean_squared_error, r2_score, mean_absolute_percentage_error, mean_absolute_error\n",
    "from sklearn.preprocessing import Normalizer\n",
    "import warnings\n",
    "warnings.filterwarnings(\"ignore\")"
   ]
  },
  {
   "cell_type": "code",
   "execution_count": 58,
   "id": "296cb286",
   "metadata": {},
   "outputs": [],
   "source": [
    "#загружаем модель и датафрейм\n",
    "df = pd.read_excel(r'df_itog.xlsx')\n",
    "df.drop(['Unnamed: 0'], axis=1, inplace=True)\n",
    "scaled_df = pd.read_excel(r'scaled_df_itog.xlsx')\n",
    "scaled_df.drop(['Unnamed: 0'], axis=1, inplace=True)\n",
    "clr = joblib.load(\"model.pkl\")"
   ]
  },
  {
   "cell_type": "code",
   "execution_count": 60,
   "id": "3a3c344e",
   "metadata": {},
   "outputs": [
    {
     "name": "stdout",
     "output_type": "stream",
     "text": [
      " * Serving Flask app '__main__' (lazy loading)\n",
      " * Environment: production\n",
      "\u001b[31m   WARNING: This is a development server. Do not use it in a production deployment.\u001b[0m\n",
      "\u001b[2m   Use a production WSGI server instead.\u001b[0m\n",
      " * Debug mode: off\n"
     ]
    },
    {
     "name": "stderr",
     "output_type": "stream",
     "text": [
      " * Running on http://127.0.0.1:5000/ (Press CTRL+C to quit)\n"
     ]
    }
   ],
   "source": [
    "#создаем приложение Flask\n",
    "app = Flask(__name__)\n",
    "@app.route('/', methods=['post', 'get'])\n",
    "def index():\n",
    "    getparam = []\n",
    "    message = ''\n",
    "    if request.method == 'POST':\n",
    "        #получаем введенные данные с формы\n",
    "        pmatnap = request.form.get('pmatnap')  # запрос к данным формы\n",
    "        pplotn = request.form.get('pplotn')\n",
    "        pmoduprg = request.form.get('pmoduprg')\n",
    "        pkolotv = request.form.get('pkolotv')\n",
    "        pepoks = request.form.get('pepoks')\n",
    "        ptempvsp = request.form.get('ptempvsp')\n",
    "        ppoverhplot = request.form.get('ppoverhplot')\n",
    "        pmoduprprrast = request.form.get('pmoduprprrast')\n",
    "        ppotrebsm = request.form.get('ppotrebsm')\n",
    "        pugolnash = request.form.get('pugolnash')\n",
    "        pshagnash = request.form.get('pshagnash')\n",
    "        pplotnash = request.form.get('pplotnash')\n",
    "        getparam.extend((pmatnap, pplotn, pmoduprg, pkolotv, pepoks, ptempvsp, ppoverhplot, pmoduprprrast, ppotrebsm, pugolnash, pshagnash, pplotnash))\n",
    "        #преобразуем string во float в списке\n",
    "        float_lst = [float(x) for x in getparam]\n",
    "        # сделаем нормализацию данных с помощью Normalizer()\n",
    "        scaler = Normalizer()\n",
    "        predict_me = scaler.fit_transform([float_lst])\n",
    "        lr_predict = clr.predict(predict_me.reshape(1, -1))\n",
    "\n",
    "        # возвращаем предсказание\n",
    "        return '''\n",
    "                  <h1>Результат предсказания: {}</h1>\n",
    "                  <a href = \"/\" > <form action=\"/\"><input class=\"btn\" type=\"button\" value=\"Назад\" /></form></a>'''.format(lr_predict)\n",
    "    return render_template('index.html')\n",
    "if __name__ == '__main__':\n",
    "    app.run()"
   ]
  },
  {
   "cell_type": "code",
   "execution_count": null,
   "id": "3abca8eb",
   "metadata": {},
   "outputs": [],
   "source": []
  }
 ],
 "metadata": {
  "kernelspec": {
   "display_name": "Python 3 (ipykernel)",
   "language": "python",
   "name": "python3"
  },
  "language_info": {
   "codemirror_mode": {
    "name": "ipython",
    "version": 3
   },
   "file_extension": ".py",
   "mimetype": "text/x-python",
   "name": "python",
   "nbconvert_exporter": "python",
   "pygments_lexer": "ipython3",
   "version": "3.9.15"
  }
 },
 "nbformat": 4,
 "nbformat_minor": 5
}
